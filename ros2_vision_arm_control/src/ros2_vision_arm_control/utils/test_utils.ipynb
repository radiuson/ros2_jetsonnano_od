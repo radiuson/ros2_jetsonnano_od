{
 "cells": [
  {
   "cell_type": "code",
   "execution_count": 1,
   "metadata": {},
   "outputs": [
    {
     "name": "stdout",
     "output_type": "stream",
     "text": [
      "Link6 XYZ coordinates: [-0.00071912 -0.0021433  -0.55295079]\n"
     ]
    }
   ],
   "source": [
    "import numpy as np\n",
    "\n",
    "def get_transform_matrix(xyz, rpy):\n",
    "    \"\"\"Get the transformation matrix from xyz and rpy.\"\"\"\n",
    "    x, y, z = xyz\n",
    "    roll, pitch, yaw = rpy\n",
    "\n",
    "    # Rotation matrices around the x, y, and z axes\n",
    "    Rx = np.array([\n",
    "        [1, 0, 0],\n",
    "        [0, np.cos(roll), -np.sin(roll)],\n",
    "        [0, np.sin(roll), np.cos(roll)]\n",
    "    ])\n",
    "    Ry = np.array([\n",
    "        [np.cos(pitch), 0, np.sin(pitch)],\n",
    "        [0, 1, 0],\n",
    "        [-np.sin(pitch), 0, np.cos(pitch)]\n",
    "    ])\n",
    "    Rz = np.array([\n",
    "        [np.cos(yaw), -np.sin(yaw), 0],\n",
    "        [np.sin(yaw), np.cos(yaw), 0],\n",
    "        [0, 0, 1]\n",
    "    ])\n",
    "\n",
    "    # Combined rotation matrix\n",
    "    R = Rz @ Ry @ Rx\n",
    "\n",
    "    # Transformation matrix\n",
    "    T = np.eye(4)\n",
    "    T[:3, :3] = R\n",
    "    T[:3, 3] = [x, y, z]\n",
    "\n",
    "    return T\n",
    "\n",
    "# Define the origins and rpy for each joint\n",
    "origins = {\n",
    "    'joint1': [0, 0, 0.06605],\n",
    "    'joint2': [0, -0.00031873, 0.04145],\n",
    "    'joint3': [-0.08285, 0, 0],\n",
    "    'joint4': [-0.08285, 0, 0],\n",
    "    'joint5': [-0.07385, -0.001, 0],\n",
    "    'joint6': [-0., -0.001, -0.9]\n",
    "}\n",
    "\n",
    "rpys = {\n",
    "    'joint1': [-0.010805, 0, 0],\n",
    "    'joint2': [0, 1.5708, 0],\n",
    "    'joint3': [0, 0, 0],\n",
    "    'joint4': [0, 0, 0.0083081],\n",
    "    'joint5': [0, -1.57, 0],\n",
    "    'joint6': [0, -1.57, 0]\n",
    "}\n",
    "\n",
    "# Initialize the transformation matrix\n",
    "T = np.eye(4)\n",
    "\n",
    "# Apply each joint's transformation\n",
    "for joint in ['joint1', 'joint2', 'joint3', 'joint4', 'joint5', 'joint6']:\n",
    "    T_joint = get_transform_matrix(origins[joint], rpys[joint])\n",
    "    T = T @ T_joint\n",
    "\n",
    "# Extract the xyz coordinates of link6\n",
    "link6_xyz = T[:3, 3]\n",
    "np.set_printoptions(suppress=True)\n",
    "print(\"Link6 XYZ coordinates:\", link6_xyz)"
   ]
  }
 ],
 "metadata": {
  "kernelspec": {
   "display_name": "usr",
   "language": "python",
   "name": "python3"
  },
  "language_info": {
   "codemirror_mode": {
    "name": "ipython",
    "version": 3
   },
   "file_extension": ".py",
   "mimetype": "text/x-python",
   "name": "python",
   "nbconvert_exporter": "python",
   "pygments_lexer": "ipython3",
   "version": "3.8.10"
  }
 },
 "nbformat": 4,
 "nbformat_minor": 2
}
